{
 "cells": [
  {
   "cell_type": "markdown",
   "metadata": {},
   "source": [
    "### Instructions:\n",
    "\n",
    "- You can attempt any number of questions and in any order.  \n",
    "  See the assignment page for a description of the hurdle requirement for this assessment.\n",
    "- You may submit your practical for autograding as many times as you like to check on progress, however you will save time by checking and testing your own code before submitting.\n",
    "- Develop and check your answers in the spaces provided.\n",
    "- **Replace** the code `raise NotImplementedError()` with your solution to the question.\n",
    "- Do **NOT** remove any variables other provided markings already provided in the answer spaces.\n",
    "- Do **NOT** make any changes to this notebook outside of the spaces indicated.  \n",
    "  (If you do this, the submission system might not accept your work)\n",
    "\n",
    "### Submitting:\n",
    "\n",
    "1. Before you turn this problem in, make sure everything runs as expected by resetting this notebook.    \n",
    "   (You can do this from the menubar above by selecting `Kernel`&#8594;`Restart Kernel and Run All Cells...`)\n",
    "1. Don't forget to save your notebook after this step.\n",
    "1. Submit your .ipynb file to Gradescope via file upload or GitHub repository.\n",
    "1. You can submit as many times as needed.\n",
    "1. You **must** give your submitted file the **identical** filename to that which you downloaded without changing **any** aspects - spaces, underscores, capitalisation etc. If your operating system has changed the filename because you downloaded the file twice or more you **must** also fix this.  \n",
    "\n"
   ]
  },
  {
   "cell_type": "markdown",
   "metadata": {},
   "source": [
    "---"
   ]
  },
  {
   "cell_type": "markdown",
   "metadata": {
    "tags": []
   },
   "source": [
    "# <mark style=\"background: #2dc26b; color: #ffffff;\" >&nbsp;B3&nbsp;</mark>&ensp;Topic 9: Searching\n"
   ]
  },
  {
   "cell_type": "code",
   "execution_count": 1,
   "metadata": {},
   "outputs": [],
   "source": [
    "from string import ascii_uppercase"
   ]
  },
  {
   "cell_type": "markdown",
   "metadata": {},
   "source": [
    "#### Question 01 &nbsp;&nbsp;&nbsp;&nbsp;&nbsp;&nbsp;(5 Points)\n",
    "\n",
    "Write a function defined as:\n",
    "```python\n",
    "def reverse_linear (un_list, match):\n",
    "```\n",
    "that performs a linear search on the list from the last element to the first returning the index of the first matching element as a tuple `(True, index)` or `(False, -1)` if not found.\n",
    "\n",
    "For example:\n",
    "```python\n",
    "reverse_linear ([7, 7], 7) # returns (True, 1)\n",
    "```"
   ]
  },
  {
   "cell_type": "code",
   "execution_count": 8,
   "metadata": {
    "deletable": false,
    "nbgrader": {
     "cell_type": "code",
     "checksum": "d9033e05da7eb91727253d5a2299257e",
     "grade": false,
     "grade_id": "q1",
     "locked": false,
     "schema_version": 3,
     "solution": true,
     "task": false
    },
    "tags": []
   },
   "outputs": [
    {
     "name": "stdout",
     "output_type": "stream",
     "text": [
      "(True, 0)\n"
     ]
    }
   ],
   "source": [
    "def reverse_linear (un_list, match):\n",
    "    for i in range(len(un_list)-1,-1,-1):\n",
    "        if un_list[i]==match:\n",
    "            return (True, i)\n",
    "    return (False, -1)\n",
    "    # YOUR CODE HERE\n",
    "print(reverse_linear ([17, 7,0,7], 17))   "
   ]
  },
  {
   "cell_type": "code",
   "execution_count": null,
   "metadata": {
    "deletable": false,
    "editable": false,
    "nbgrader": {
     "cell_type": "code",
     "checksum": "bc699076e9c694f950ae7c014b30f6e1",
     "grade": true,
     "grade_id": "q1-reverse-linea",
     "locked": true,
     "points": 5,
     "schema_version": 3,
     "solution": false,
     "task": false
    },
    "tags": []
   },
   "outputs": [],
   "source": [
    "# Testing Cell (Do NOT modify this cell)"
   ]
  },
  {
   "cell_type": "markdown",
   "metadata": {},
   "source": [
    "#### Question 02 &nbsp;&nbsp;&nbsp;&nbsp;&nbsp;&nbsp;(5 Points)\n",
    "\n",
    "Write a function defined as:\n",
    "```python\n",
    "def weighted_binary_search (or_list, match):\n",
    "```\n",
    "that performs a **iterative binary search** on an ordered list of ints that returns the `index x value` (index multiplied by value) or `False` if the element is not found.\n",
    "\n",
    "For example:\n",
    "```python\n",
    "weighted_binary_search ([0, 3, 6], 6) == 12 # because (value) = 6 * (index) 2\n",
    "```"
   ]
  },
  {
   "cell_type": "code",
   "execution_count": 14,
   "metadata": {
    "deletable": false,
    "nbgrader": {
     "cell_type": "code",
     "checksum": "f4def7ca9d085c3f6c30536594ece005",
     "grade": false,
     "grade_id": "q2",
     "locked": false,
     "schema_version": 3,
     "solution": true,
     "task": false
    },
    "tags": []
   },
   "outputs": [
    {
     "name": "stdout",
     "output_type": "stream",
     "text": [
      "2 2\n",
      "12\n"
     ]
    }
   ],
   "source": [
    "def weighted_binary_search (or_list, match):\n",
    " \n",
    "    # YOUR CODE HERE\n",
    "    l = 0\n",
    "    h = len(or_list) - 1\n",
    "    while l <= h:\n",
    "        mid = (l + h) // 2\n",
    "        if or_list[mid] == match:\n",
    "            return mid *match\n",
    "        elif or_list[mid] < match:\n",
    "            l = mid + 1\n",
    "        else:\n",
    "            h = mid - 1\n",
    "    return None\n",
    "\n",
    "print(weighted_binary_search ([0, 3, 6], 6))"
   ]
  },
  {
   "cell_type": "code",
   "execution_count": null,
   "metadata": {
    "deletable": false,
    "editable": false,
    "nbgrader": {
     "cell_type": "code",
     "checksum": "d9d9d27cb3776888c72e14d91b093209",
     "grade": true,
     "grade_id": "q2-weighted-binary",
     "locked": true,
     "points": 5,
     "schema_version": 3,
     "solution": false,
     "task": false
    },
    "tags": []
   },
   "outputs": [],
   "source": [
    "# Testing Cell (Do NOT modify this cell)"
   ]
  },
  {
   "cell_type": "markdown",
   "metadata": {},
   "source": [
    "#### Question 03 &nbsp;&nbsp;&nbsp;&nbsp;&nbsp;&nbsp;(10 Points)\n",
    "\n",
    "Write a function defined as:\n",
    "```python\n",
    "def num_matches_jump_search (or_list, match, jump = 1):\n",
    "```\n",
    "\n",
    "that implements a **jump search** that takes the size of the jump (`jump >= 1`) as an input parameter to find the value `match`. If that value is found, the function should then use linear search to discover all adjacent values that also match to the `match` parameter. The search should return the number of items in the ordered list that match the search value (rather than the index) or `False` if the item was not found.\n",
    "\n",
    "For example:\n",
    "```python\n",
    "num_matches_jump_search ([0, 2, 3, 5, 5, 6, 8, 11, 12, 12, 12], 5, 2) == 2\n",
    "```"
   ]
  },
  {
   "cell_type": "code",
   "execution_count": 51,
   "metadata": {
    "deletable": false,
    "nbgrader": {
     "cell_type": "code",
     "checksum": "8f301466336ea10ada1001b1aaa81e4f",
     "grade": false,
     "grade_id": "q3",
     "locked": false,
     "schema_version": 3,
     "solution": true,
     "task": false
    },
    "tags": []
   },
   "outputs": [
    {
     "name": "stdout",
     "output_type": "stream",
     "text": [
      "3\n"
     ]
    }
   ],
   "source": [
    "def num_matches_jump_search (or_list, match, jump = 1):\n",
    "    \n",
    "    # YOUR CODE HERE\n",
    "    length = len(or_list)\n",
    "    left, right = 0, 0\n",
    "    \n",
    "    while left < length and or_list[left] <= match:\n",
    "        right = min(length - 1, left + jump)\n",
    "        if or_list[left] <= match and or_list[right] >= match:\n",
    "            break\n",
    "        left += jump\n",
    "        \n",
    "    if left >= length or or_list[left] > match:\n",
    "        return False\n",
    "    num_matches = 0\n",
    "    i = left\n",
    "    while i <= right and or_list[i] <= match:\n",
    "        if or_list[i] == match:\n",
    "            num_matches += 1\n",
    "        i += 1\n",
    "    return num_matches\n",
    "print(num_matches_jump_search ([0, 1, 2, 3, 5, 5, 6, 8, 10, 11, 12, 12, 12], 12, 3))"
   ]
  },
  {
   "cell_type": "code",
   "execution_count": null,
   "metadata": {
    "deletable": false,
    "editable": false,
    "nbgrader": {
     "cell_type": "code",
     "checksum": "2cf033d94797c764a1bc48310ccc38b2",
     "grade": true,
     "grade_id": "q3-jump",
     "locked": true,
     "points": 10,
     "schema_version": 3,
     "solution": false,
     "task": false
    },
    "tags": []
   },
   "outputs": [],
   "source": [
    "# Testing Cell (Do NOT modify this cell)"
   ]
  },
  {
   "cell_type": "markdown",
   "metadata": {},
   "source": [
    "#### Question 04 &nbsp;&nbsp;&nbsp;&nbsp;&nbsp;&nbsp;(10 Points)\n",
    "\n",
    "Write a function defined as:\n",
    "```python\n",
    "def binary_search_tuples_by_second_value (tu_list,  match):\n",
    "```\n",
    "that implements a binary search to find the second element in a list of tuples sorted by the second value in the tuple returning the tuple found at the index of the first match or `False` when the match is not found.\n",
    "\n",
    "For example:\n",
    "```python\n",
    "# because the tuple (1,2) has '2' in the second position.\n",
    "binary_search_tuples_by_second_value ([(1,2),(1,4),(3,5),(5,7)], 2) == (1, 2)\n",
    "```"
   ]
  },
  {
   "cell_type": "code",
   "execution_count": 23,
   "metadata": {
    "deletable": false,
    "nbgrader": {
     "cell_type": "code",
     "checksum": "5ecefc6747e5b4c592e4ce57d69972de",
     "grade": false,
     "grade_id": "q4",
     "locked": false,
     "schema_version": 3,
     "solution": true,
     "task": false
    },
    "tags": []
   },
   "outputs": [
    {
     "name": "stdout",
     "output_type": "stream",
     "text": [
      "(3, 5)\n"
     ]
    }
   ],
   "source": [
    "def binary_search_tuples_by_second_value (tu_list,  match):\n",
    " \n",
    "    # YOUR CODE HERE\n",
    "    l = 0\n",
    "    h = len(tu_list) - 1\n",
    "    while l <= h:\n",
    "        mid = (l + h) // 2\n",
    "        if tu_list[mid][1] == match:\n",
    "            return tu_list[mid]\n",
    "        elif tu_list[mid][1] < match:\n",
    "            l = mid + 1\n",
    "        else:\n",
    "            h = mid - 1\n",
    "    return None\n",
    "\n",
    "print(binary_search_tuples_by_second_value ([(1,2),(1,4),(3,5),(5,7)], 5))"
   ]
  },
  {
   "cell_type": "code",
   "execution_count": null,
   "metadata": {
    "deletable": false,
    "editable": false,
    "nbgrader": {
     "cell_type": "code",
     "checksum": "327dc6a1b2fea1e465c06253b576b4b6",
     "grade": true,
     "grade_id": "q4-binary-tuples",
     "locked": true,
     "points": 10,
     "schema_version": 3,
     "solution": false,
     "task": false
    }
   },
   "outputs": [],
   "source": [
    "# Testing Cell (Do NOT modify this cell)"
   ]
  },
  {
   "cell_type": "markdown",
   "metadata": {},
   "source": [
    "#### Question 05 &nbsp;&nbsp;&nbsp;&nbsp;&nbsp;&nbsp;(10 Points)\n",
    "\n",
    "Write a function defined as: \n",
    "```python\n",
    "def search_float_with_tolerance (or_list, match, tolerance = 0.5):\n",
    "```\n",
    "that will accepts an ordered list of floats and a tolerance that performs a search of any type for a float and returns the first of any values that matches plus or minus the tolerance or returns `False` if no value is found within that tolerance such that:\n",
    "```python\n",
    "(match - tolerance) <= match <= (match + tolerance)\n",
    "````    "
   ]
  },
  {
   "cell_type": "code",
   "execution_count": 29,
   "metadata": {
    "deletable": false,
    "nbgrader": {
     "cell_type": "code",
     "checksum": "a663c2473284e39ae0b45b3a676ce2d5",
     "grade": false,
     "grade_id": "q5",
     "locked": false,
     "schema_version": 3,
     "solution": true,
     "task": false
    },
    "tags": []
   },
   "outputs": [
    {
     "name": "stdout",
     "output_type": "stream",
     "text": [
      "0.1\n"
     ]
    }
   ],
   "source": [
    "def search_float_with_tolerance (or_list, match, tolerance = 0.5):\n",
    "    \n",
    "    # YOUR CODE HERE\n",
    "    for value in or_list:\n",
    "        if match - tolerance <= value <= match + tolerance:\n",
    "            return value\n",
    "    return False\n",
    "print(search_float_with_tolerance ([-7.6, 0.1, 1.1, 16.9, 19.8], 0.0, 0.1))"
   ]
  },
  {
   "cell_type": "code",
   "execution_count": null,
   "metadata": {
    "deletable": false,
    "editable": false,
    "nbgrader": {
     "cell_type": "code",
     "checksum": "f17b1b982b44a59a1aa48e82144033fd",
     "grade": true,
     "grade_id": "q5-float-with-tolerance",
     "locked": true,
     "points": 10,
     "schema_version": 3,
     "solution": false,
     "task": false
    }
   },
   "outputs": [],
   "source": [
    "# Testing Cell (Do NOT modify this cell)"
   ]
  },
  {
   "cell_type": "markdown",
   "metadata": {},
   "source": [
    "#### Question 06 &nbsp;&nbsp;&nbsp;&nbsp;&nbsp;&nbsp;(10 Points)\n",
    "\n",
    "Write a function defined as:\n",
    "```python\n",
    "def search_num_matches (or_list, match):\n",
    "```\n",
    "that implements a search of any type on ordered data and returns the number of elements that match a value or False if no match is found. For a non-linear search, attempt to find a first match and then search linearly forwards and backwards in the list from the initial match or adopt your own hybrid approach.\n"
   ]
  },
  {
   "cell_type": "code",
   "execution_count": 31,
   "metadata": {
    "deletable": false,
    "nbgrader": {
     "cell_type": "code",
     "checksum": "169c01de6c7d320cb5e06d09d7357ae3",
     "grade": false,
     "grade_id": "q6",
     "locked": false,
     "schema_version": 3,
     "solution": true,
     "task": false
    },
    "tags": []
   },
   "outputs": [],
   "source": [
    "def search_num_matches (or_list, match):\n",
    "    \n",
    "    # YOUR CODE HERE\n",
    "    count = 0\n",
    "    for i in or_list:\n",
    "        if i == match:\n",
    "            count +=1\n",
    "    return count\n"
   ]
  },
  {
   "cell_type": "code",
   "execution_count": null,
   "metadata": {
    "deletable": false,
    "editable": false,
    "nbgrader": {
     "cell_type": "code",
     "checksum": "9667713ffcfd32ce4bc254f129e3e492",
     "grade": true,
     "grade_id": "q6-num-matches",
     "locked": true,
     "points": 10,
     "schema_version": 3,
     "solution": false,
     "task": false
    },
    "tags": []
   },
   "outputs": [],
   "source": [
    "# Testing Cell (Do NOT modify this cell)"
   ]
  },
  {
   "cell_type": "markdown",
   "metadata": {},
   "source": [
    "#### Question 07 &nbsp;&nbsp;&nbsp;&nbsp;&nbsp;&nbsp;(10 Points)\n",
    "\n",
    "Write a function defined as:\n",
    "```python\n",
    "def binary_search_for_string (filename, match):\n",
    "```\n",
    "that reads a file consisting of an ordered list of fruit and vegetables (one per line, including some space separated values) and uses a **binary search** to return a tuple `(True, line_number)` if the `match` string exactly matches one line (excluding EOL) and `(False, -1)` otherwise. A file of test data, `fruit-and-veg.txt` is available from the MyUni assignment page for this practical."
   ]
  },
  {
   "cell_type": "code",
   "execution_count": 52,
   "metadata": {
    "deletable": false,
    "nbgrader": {
     "cell_type": "code",
     "checksum": "d6cb851dd0a979be002cfde30ff3bca8",
     "grade": false,
     "grade_id": "q7",
     "locked": false,
     "schema_version": 3,
     "solution": true,
     "task": false
    },
    "tags": []
   },
   "outputs": [
    {
     "name": "stdout",
     "output_type": "stream",
     "text": [
      "(True, 34)\n"
     ]
    }
   ],
   "source": [
    "def binary_search_for_string (filename, match):\n",
    "    with open(filename,\"r\") as f:\n",
    "        or_list = f.readlines()\n",
    "        l = 0\n",
    "        h = len(or_list) - 1\n",
    "        while l <= h:\n",
    "            mid = (l + h) // 2\n",
    "            if or_list[mid].strip() == match:\n",
    "                return (True, mid)\n",
    "            elif or_list[mid].strip() < match:\n",
    "                l = mid + 1\n",
    "            else:\n",
    "                h = mid - 1\n",
    "        return (False, -1)\n",
    "\n",
    "    # YOUR CODE HERE\n",
    "print(binary_search_for_string (\"fruit-and-veg.txt\", 'Cherries')  )\n"
   ]
  },
  {
   "cell_type": "code",
   "execution_count": null,
   "metadata": {
    "deletable": false,
    "editable": false,
    "nbgrader": {
     "cell_type": "code",
     "checksum": "591305cab19e5226c24686a56aade7e6",
     "grade": true,
     "grade_id": "q7-binary-for-string",
     "locked": true,
     "points": 10,
     "schema_version": 3,
     "solution": false,
     "task": false
    }
   },
   "outputs": [],
   "source": [
    "# Testing Cell (Do NOT modify this cell)"
   ]
  },
  {
   "cell_type": "markdown",
   "metadata": {},
   "source": [
    "#### Question 08 &nbsp;&nbsp;&nbsp;&nbsp;&nbsp;&nbsp;(10 Points)\n",
    "\n",
    "Write a function defined as:\n",
    "```python\n",
    "def linear_interpolate_index (slist, match_value, low_index, high_index):\n",
    "```\n",
    "that takes an ordered list of ascending numbers and a desired 'match'  value to search for in the list. \n",
    "\n",
    "The partition of interest in the list is defined by the index of the low and high values in the list. The function uses linear interpolation between `slist[high]` and `slist[low]` to return the index to try interpolation searching for the match value or `None` if the desired match falls outside the range `slist[low]` to `slist[high-1)]`.\n",
    "\n",
    "For example, a call to `linear_interpolate_index(list(range(0, 20, 2)), 6, 0, 9)` would return an index value of `3`."
   ]
  },
  {
   "cell_type": "code",
   "execution_count": 93,
   "metadata": {
    "deletable": false,
    "nbgrader": {
     "cell_type": "code",
     "checksum": "4a808879b1bfa21f76407e41cc3af64d",
     "grade": false,
     "grade_id": "q8",
     "locked": false,
     "schema_version": 3,
     "solution": true,
     "task": false
    },
    "tags": []
   },
   "outputs": [
    {
     "name": "stdout",
     "output_type": "stream",
     "text": [
      "3\n"
     ]
    }
   ],
   "source": [
    "def linear_interpolate_index (slist, match_value, low_index, high_index):\n",
    "    \n",
    "    # YOUR CODE HERE\n",
    "    low = low_index    \n",
    "    high = (high_index - 1)   \n",
    "    if low >= high:\n",
    "        return\n",
    "    \n",
    "    while((slist[high] != slist[low]) and (match_value >= slist[low]) and (match_value <= slist[high])):\n",
    "        \n",
    "        # Interpolate a search index         \n",
    "        mid = low + int((match_value - slist[low]) * (high - low) / (slist[high] - slist[low]))\n",
    " \n",
    "        # Compare the value at the interpolated index with search value \n",
    "        if slist[mid] < match_value:\n",
    "            low = mid + 1\n",
    "        elif match_value < slist[mid]:\n",
    "            high = mid - 1\n",
    "        else:\n",
    "            return mid    \n",
    "        \n",
    "    if match_value == slist[low]:\n",
    "        return low\n",
    "    else: \n",
    "        return \n",
    "print(linear_interpolate_index(list(range(0, 20, 2)), 6, 0, 9))"
   ]
  },
  {
   "cell_type": "code",
   "execution_count": null,
   "metadata": {
    "deletable": false,
    "editable": false,
    "nbgrader": {
     "cell_type": "code",
     "checksum": "bc329668d29993130aac97355d31e2f0",
     "grade": true,
     "grade_id": "q8-interpolate",
     "locked": true,
     "points": 10,
     "schema_version": 3,
     "solution": false,
     "task": false
    }
   },
   "outputs": [],
   "source": [
    "# Testing Cell (Do NOT modify this cell)"
   ]
  },
  {
   "cell_type": "markdown",
   "metadata": {
    "tags": []
   },
   "source": [
    "#### Question 09 &nbsp;&nbsp;&nbsp;&nbsp;&nbsp;&nbsp;(15 Points)\n",
    "\n",
    "Write a function defined as:\n",
    "```python\n",
    "def interpolate_sort_and_search (filename, integer_match):\n",
    "```\n",
    "that loads a file of unordered floats and:\n",
    "- sorts the file contents using a quicksort with random partition scheme,\n",
    "- uses the function `linear_interpolate_index` in Question 8 to perform an interpolation search (or any other linear interpolation approach if you have not yet completed Question 8),\n",
    "- searches the contents of the file for a number where the whole number portion of the float matches the parameter `integer_match`,\n",
    "- returns a tuple `(True, line_number)` where `line_number` is the line number of the match in the file *prior to sorting* or `(False, -1)` depending if the search was unsuccessful.\n",
    "Sample test data is available as a text file, `random-floats.txt` from the MyUni assignment page for this practical."
   ]
  },
  {
   "cell_type": "code",
   "execution_count": 95,
   "metadata": {
    "deletable": false,
    "nbgrader": {
     "cell_type": "code",
     "checksum": "0b0341bf87fe1946fa5825abf98854fd",
     "grade": false,
     "grade_id": "q9",
     "locked": false,
     "schema_version": 3,
     "solution": true,
     "task": false
    },
    "tags": []
   },
   "outputs": [
    {
     "name": "stdout",
     "output_type": "stream",
     "text": [
      "['11.018055462616445\\n', '9.953141859312709\\n', '11.214052030296598\\n', '6.671148260576563\\n', '11.973082647915838\\n', '10.824971862474866\\n', '6.812104887393094\\n', '13.078092438469021\\n', '0.85203315315797\\n', '9.396980009363462\\n', '4.7018314391236045\\n', '12.112993489857097\\n', '0.6338109592099002\\n', '11.140722303997885\\n', '9.91747515645957\\n', '5.364614225436043\\n', '10.531013104467647\\n', '6.3190898703884715\\n', '5.750297422524916\\n', '12.172351633901817\\n', '7.627555148976966\\n', '4.189789586888004\\n', '10.900661987098234\\n', '9.05768935250183\\n', '11.795046439989925\\n', '0.628463897953246\\n', '5.140863628789882\\n', '7.904464223894904\\n', '12.55915105539377\\n', '2.20212009699181\\n', '2.58508396027236\\n', '4.856426619401032\\n', '7.783010373395249\\n', '8.020140957328396\\n', '7.8296655911743045\\n', '10.854941922179645\\n', '12.316119032158173\\n', '5.4345985804636046\\n', '6.649461339280814\\n', '-1.585689555858086\\n', '2.091160308766421\\n', '8.61040518129886\\n', '2.8741876678663703\\n', '9.847266295808627\\n', '1.687163861907061\\n', '7.051360885736841\\n', '6.786102403816901\\n']\n",
      "[11, 9, 11, 6, 11, 10, 6, 13, 0, 9, 4, 12, 0, 11, 9, 5, 10, 6, 5, 12, 7, 4, 10, 9, 11, 0, 5, 7, 12, 2, 2, 4, 7, 8, 7, 10, 12, 5, 6, -1, 2, 8, 2, 9, 1, 7, 6]\n",
      "8\n",
      "(True, 8)\n"
     ]
    }
   ],
   "source": [
    "import random\n",
    "\n",
    "def quicksort(array, first, last):\n",
    "    if first >= last:\n",
    "        return\n",
    "    i, j = first, last\n",
    "    pivot_index = random.randint(first, last)  # Choose a random index as pivot\n",
    "    pivot = array[pivot_index]\n",
    "    while i <= j:\n",
    "        while int(array[i])< pivot:\n",
    "            i += 1\n",
    "        while array[j] > pivot:\n",
    "            j -= 1\n",
    "        if i <= j:\n",
    "            array[i], array[j] = array[j], array[i]\n",
    "            i, j = i + 1, j - 1\n",
    "    quicksort(array, first, j)\n",
    "    quicksort(array, i, last)\n",
    "            \n",
    "        \n",
    "def interpolate_sort_and_search (filename, integer_match):\n",
    "    \n",
    "    # YOUR CODE HERE\n",
    "    with open(filename, \"r\") as f:\n",
    "        l = f.readlines()\n",
    "        print(l)\n",
    "        l = [int((float(i))) for i in l]\n",
    "        print(l)\n",
    "        l1 = l.copy()\n",
    "        quicksort(l1, 0, len(l1)-1)\n",
    "        line = linear_interpolate_index(l1,integer_match,0,len(l1)-1)\n",
    "        if line != None:\n",
    "            print(l.index(l1[line]))\n",
    "            return (True, l.index(l1[line]))\n",
    "        else:\n",
    "            return (False,-1)\n",
    "        \n",
    "        \n",
    "        \n",
    "print(interpolate_sort_and_search(\"random-floats.txt\", 0))       "
   ]
  },
  {
   "cell_type": "code",
   "execution_count": null,
   "metadata": {
    "deletable": false,
    "editable": false,
    "nbgrader": {
     "cell_type": "code",
     "checksum": "db294c4cb3ff7eef7bff10a702c57d0a",
     "grade": true,
     "grade_id": "q9-sort-and-search",
     "locked": true,
     "points": 15,
     "schema_version": 3,
     "solution": false,
     "task": false
    }
   },
   "outputs": [],
   "source": [
    "# Testing Cell (Do NOT modify this cell)"
   ]
  },
  {
   "cell_type": "markdown",
   "metadata": {},
   "source": [
    "#### Question 10 &nbsp;&nbsp;&nbsp;&nbsp;&nbsp;&nbsp;(15 Points)\n",
    "\n",
    "Following on from Question 09, write a function defined as:\n",
    "```python\n",
    "def binary_sort_and_search (filename, integer_match):\n",
    "```\n",
    "that loads the same file of unordered floats and:\n",
    "- sorts the file contents using a bubble scheme,\n",
    "- uses a binary search for a number where the whole number portion of the float matches the parameter `integer_match`,\n",
    "- returns a tuple `(True, line_number)` where `line_number` is the line number of the match in the file *prior to sorting* or `(False, -1)` depending if the search was unsuccessful."
   ]
  },
  {
   "cell_type": "code",
   "execution_count": 98,
   "metadata": {
    "deletable": false,
    "nbgrader": {
     "cell_type": "code",
     "checksum": "6855c48ed383741c6dfc96cbc4eec405",
     "grade": false,
     "grade_id": "q10",
     "locked": false,
     "schema_version": 3,
     "solution": true,
     "task": false
    },
    "tags": []
   },
   "outputs": [
    {
     "name": "stdout",
     "output_type": "stream",
     "text": [
      "8\n",
      "(True, 8)\n"
     ]
    }
   ],
   "source": [
    "def bubble_sort(arr):\n",
    "    for i in range(len(arr)):\n",
    "        swapped = False\n",
    "        for j in range(0, len(arr) - i - 1):\n",
    "            if arr[j] > arr[j+1]:\n",
    "                arr[j], arr[j+1] = arr[j+1], arr[j]\n",
    "                swapped = True\n",
    "        if not swapped:\n",
    "            break\n",
    "            \n",
    "def binary_search (or_list, match):\n",
    " \n",
    "    # YOUR CODE HERE\n",
    "    l = 0\n",
    "    h = len(or_list) - 1\n",
    "    while l <= h:\n",
    "        mid = (l + h) // 2\n",
    "        if or_list[mid] == match:\n",
    "            return mid \n",
    "        elif or_list[mid] < match:\n",
    "            l = mid + 1\n",
    "        else:\n",
    "            h = mid - 1\n",
    "    return None\n",
    "            \n",
    "def binary_sort_and_search (filename, integer_match):\n",
    "    \n",
    "    # YOUR CODE HERE\n",
    "    with open(filename, \"r\") as f:\n",
    "        l = f.readlines()\n",
    "        l = [int((float(i))) for i in l]\n",
    "        l1 = l.copy()\n",
    "        bubble_sort(l1)\n",
    "        line = binary_search (l1,integer_match)\n",
    "        if line != None:\n",
    "            print(l.index(l1[line]))\n",
    "            return (True, l.index(l1[line]))\n",
    "        else:\n",
    "            return (False,-1)\n",
    "        \n",
    "print(binary_sort_and_search(\"random-floats.txt\", 0))       "
   ]
  },
  {
   "cell_type": "code",
   "execution_count": null,
   "metadata": {
    "deletable": false,
    "editable": false,
    "nbgrader": {
     "cell_type": "code",
     "checksum": "a69eec620ac762584bd81579dcfb7cf8",
     "grade": true,
     "grade_id": "q10-binary-sort-and-search",
     "locked": true,
     "points": 15,
     "schema_version": 3,
     "solution": false,
     "task": false
    },
    "tags": []
   },
   "outputs": [],
   "source": [
    "# Testing Cell (Do NOT modify this cell)"
   ]
  }
 ],
 "metadata": {
  "kernelspec": {
   "display_name": "Python 3 (ipykernel)",
   "language": "python",
   "name": "python3"
  },
  "language_info": {
   "codemirror_mode": {
    "name": "ipython",
    "version": 3
   },
   "file_extension": ".py",
   "mimetype": "text/x-python",
   "name": "python",
   "nbconvert_exporter": "python",
   "pygments_lexer": "ipython3",
   "version": "3.11.4"
  },
  "otter": {
   "tests": {
    "q1": {
     "name": "q1",
     "points": 1,
     "suites": [
      {
       "cases": [],
       "scored": true,
       "setup": "",
       "teardown": "",
       "type": "doctest"
      }
     ]
    },
    "q10": {
     "name": "q10",
     "points": 4,
     "suites": [
      {
       "cases": [],
       "scored": true,
       "setup": "",
       "teardown": "",
       "type": "doctest"
      }
     ]
    },
    "q11": {
     "name": "q11",
     "points": 6,
     "suites": [
      {
       "cases": [],
       "scored": true,
       "setup": "",
       "teardown": "",
       "type": "doctest"
      }
     ]
    },
    "q12": {
     "name": "q12",
     "points": 6,
     "suites": [
      {
       "cases": [],
       "scored": true,
       "setup": "",
       "teardown": "",
       "type": "doctest"
      }
     ]
    },
    "q13": {
     "name": "q13",
     "points": 6,
     "suites": [
      {
       "cases": [],
       "scored": true,
       "setup": "",
       "teardown": "",
       "type": "doctest"
      }
     ]
    },
    "q14": {
     "name": "q14",
     "points": 6,
     "suites": [
      {
       "cases": [],
       "scored": true,
       "setup": "",
       "teardown": "",
       "type": "doctest"
      }
     ]
    },
    "q15": {
     "name": "q15",
     "points": 6,
     "suites": [
      {
       "cases": [],
       "scored": true,
       "setup": "",
       "teardown": "",
       "type": "doctest"
      }
     ]
    },
    "q16": {
     "name": "q16",
     "points": 6,
     "suites": [
      {
       "cases": [],
       "scored": true,
       "setup": "",
       "teardown": "",
       "type": "doctest"
      }
     ]
    },
    "q17": {
     "name": "q17",
     "points": 8,
     "suites": [
      {
       "cases": [],
       "scored": true,
       "setup": "",
       "teardown": "",
       "type": "doctest"
      }
     ]
    },
    "q18": {
     "name": "q18",
     "points": 8,
     "suites": [
      {
       "cases": [],
       "scored": true,
       "setup": "",
       "teardown": "",
       "type": "doctest"
      }
     ]
    },
    "q19": {
     "name": "q19",
     "points": 12,
     "suites": [
      {
       "cases": [],
       "scored": true,
       "setup": "",
       "teardown": "",
       "type": "doctest"
      }
     ]
    },
    "q2": {
     "name": "q2",
     "points": 1,
     "suites": [
      {
       "cases": [],
       "scored": true,
       "setup": "",
       "teardown": "",
       "type": "doctest"
      }
     ]
    },
    "q20": {
     "name": "q20",
     "points": 12,
     "suites": [
      {
       "cases": [],
       "scored": true,
       "setup": "",
       "teardown": "",
       "type": "doctest"
      }
     ]
    },
    "q3": {
     "name": "q3",
     "points": 1,
     "suites": [
      {
       "cases": [],
       "scored": true,
       "setup": "",
       "teardown": "",
       "type": "doctest"
      }
     ]
    },
    "q4": {
     "name": "q4",
     "points": 1,
     "suites": [
      {
       "cases": [],
       "scored": true,
       "setup": "",
       "teardown": "",
       "type": "doctest"
      }
     ]
    },
    "q5": {
     "name": "q5",
     "points": 2,
     "suites": [
      {
       "cases": [],
       "scored": true,
       "setup": "",
       "teardown": "",
       "type": "doctest"
      }
     ]
    },
    "q6": {
     "name": "q6",
     "points": 2,
     "suites": [
      {
       "cases": [],
       "scored": true,
       "setup": "",
       "teardown": "",
       "type": "doctest"
      }
     ]
    },
    "q7": {
     "name": "q7",
     "points": 4,
     "suites": [
      {
       "cases": [],
       "scored": true,
       "setup": "",
       "teardown": "",
       "type": "doctest"
      }
     ]
    },
    "q8": {
     "name": "q8",
     "points": 4,
     "suites": [
      {
       "cases": [],
       "scored": true,
       "setup": "",
       "teardown": "",
       "type": "doctest"
      }
     ]
    },
    "q9": {
     "name": "q9",
     "points": 4,
     "suites": [
      {
       "cases": [],
       "scored": true,
       "setup": "",
       "teardown": "",
       "type": "doctest"
      }
     ]
    }
   }
  },
  "varInspector": {
   "cols": {
    "lenName": 16,
    "lenType": 16,
    "lenVar": 40
   },
   "kernels_config": {
    "python": {
     "delete_cmd_postfix": "",
     "delete_cmd_prefix": "del ",
     "library": "var_list.py",
     "varRefreshCmd": "print(var_dic_list())"
    },
    "r": {
     "delete_cmd_postfix": ") ",
     "delete_cmd_prefix": "rm(",
     "library": "var_list.r",
     "varRefreshCmd": "cat(var_dic_list()) "
    }
   },
   "types_to_exclude": [
    "module",
    "function",
    "builtin_function_or_method",
    "instance",
    "_Feature"
   ],
   "window_display": false
  }
 },
 "nbformat": 4,
 "nbformat_minor": 4
}
